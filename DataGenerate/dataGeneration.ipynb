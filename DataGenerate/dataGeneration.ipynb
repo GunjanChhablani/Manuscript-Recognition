{
 "cells": [
  {
   "cell_type": "code",
   "execution_count": null,
   "metadata": {},
   "outputs": [],
   "source": [
    "import webbrowser\n",
    "import time\n",
    "from selenium import webdriver\n",
    "import cv2\n",
    "import numpy as np\n",
    "from imgaug import augmenters as iaa\n",
    "import os"
   ]
  },
  {
   "cell_type": "code",
   "execution_count": null,
   "metadata": {},
   "outputs": [],
   "source": [
    "#vowels-2309 to 2401\n",
    "#consonants1-2325 to 2361\n",
    "#consonants2-2392 to 2399\n",
    "#numbers 2406 to 2415\n",
    "#matras 2366 to 2381\n",
    "#anuswaras 2305 2306 2307"
   ]
  },
  {
   "cell_type": "code",
   "execution_count": null,
   "metadata": {},
   "outputs": [],
   "source": [
    "vowel_start=2309\n",
    "vowel_end=2324\n",
    "con1_start=2329 #2325\n",
    "con1_end=2361\n",
    "con2_start=2392\n",
    "con2_end=2399\n",
    "matra_start=2377 #2366\n",
    "matra_end=2381\n",
    "anu_start=2305\n",
    "anu_end=2307\n",
    "num_start=2406\n",
    "num_end=2415"
   ]
  },
  {
   "cell_type": "code",
   "execution_count": null,
   "metadata": {},
   "outputs": [],
   "source": [
    "#each character image will have size 80*80\n",
    "big_value=5000\n",
    "char_img_size=80"
   ]
  },
  {
   "cell_type": "code",
   "execution_count": null,
   "metadata": {},
   "outputs": [],
   "source": [
    "#The directory contains ttf font files for Devnagiri fonts\n",
    "font_list=os.listdir(\"./fonts/\")\n",
    "print(len(font_list))\n",
    "print(font_list)"
   ]
  },
  {
   "cell_type": "code",
   "execution_count": null,
   "metadata": {},
   "outputs": [],
   "source": [
    "#text in the generate.html file\n",
    "font_face=\"\"\n",
    "for i,j in enumerate(font_list):\n",
    "    a=\"@font-face { font-family: %s; src: url('./fonts/%s')} \"%(\"'\"+str(i)+\"'\",j)\n",
    "    font_face=font_face+a\n",
    "start_html=\"<html> <head> <style>\"\n",
    "end_html=\"</font></p> </body> </html>\"\n",
    "mid_html=\"</style> </head> <body> <p><font size=\"+str(15)+\">\"\n"
   ]
  },
  {
   "cell_type": "code",
   "execution_count": null,
   "metadata": {},
   "outputs": [],
   "source": [
    "#Augment the different font syled character images \n",
    "def Augment_Main(images,path):\n",
    "        image_aug=Augment1(images)\n",
    "        img1=np.concatenate((images,image_aug),axis=0)\n",
    "        image_aug_p1=Augment2(img1)\n",
    "        image_aug_p2=Augment3(img1)\n",
    "        img3=np.concatenate((img1,image_aug_p1,image_aug_p2),axis=0)\n",
    "        image_aug=Augment4(img3)    \n",
    "        img4=np.concatenate((img3,image_aug),axis=0)\n",
    "        image_aug_p3=Augment6(img4)\n",
    "        img5=np.concatenate((img4,image_aug_p3),axis=0)\n",
    "        image_aug_p4=Augment7(img5)\n",
    "        img6=np.concatenate((img5,image_aug_p4),axis=0)\n",
    "        for i in range(len(img6)):\n",
    "            cv2.imwrite(path+str(i)+\".jpg\",img6[i])"
   ]
  },
  {
   "cell_type": "code",
   "execution_count": null,
   "metadata": {},
   "outputs": [],
   "source": [
    "#rotate\n",
    "def Augment1(images):\n",
    "    aug = iaa.Sequential([\n",
    "    iaa.Affine(rotate=(-20,20),mode=\"constant\",cval=255)])\n",
    "    image_aug = aug.augment_images(images)\n",
    "    print(image_aug)\n",
    "    return image_aug"
   ]
  },
  {
   "cell_type": "code",
   "execution_count": null,
   "metadata": {},
   "outputs": [],
   "source": [
    "#blur\n",
    "def Augment2(images):\n",
    "    print(images[0].shape)\n",
    "    aug=iaa.OneOf([\n",
    "                iaa.GaussianBlur((0, 3.0)),\n",
    "                iaa.AverageBlur(k=(2, 7)),\n",
    "                iaa.MedianBlur(k=(3, 11))])\n",
    "    image_aug = aug.augment_images(images)\n",
    "    return image_aug"
   ]
  },
  {
   "cell_type": "code",
   "execution_count": null,
   "metadata": {},
   "outputs": [],
   "source": [
    "#Either blur or sharpen\n",
    "def Augment3(images):\n",
    "    \n",
    "    aug=iaa.OneOf([\n",
    "                iaa.Sharpen(alpha=1.0, lightness=(0.75, 2)),\n",
    "                iaa.Emboss(alpha=1.0, strength=(1.5, 2.0))])\n",
    "    image_aug = aug.augment_images(images)\n",
    "    return image_aug"
   ]
  },
  {
   "cell_type": "code",
   "execution_count": null,
   "metadata": {},
   "outputs": [],
   "source": [
    "#insert Gaussian noise\n",
    "def Augment4(images):\n",
    "    aug=iaa.Sequential(\n",
    "        iaa.AdditiveGaussianNoise(scale=0.1*255)\n",
    "                )\n",
    "    image_aug = aug.augment_images(images)\n",
    "    return image_aug\n"
   ]
  },
  {
   "cell_type": "code",
   "execution_count": null,
   "metadata": {},
   "outputs": [],
   "source": [
    "#super pixel\n",
    "def Augment5(images):    \n",
    "    aug=iaa.Sequential(\n",
    "        iaa.Superpixels(p_replace=0.5, n_segments=128)\n",
    "                )\n",
    "    image_aug = aug.augment_images(images)\n",
    "    return image_aug"
   ]
  },
  {
   "cell_type": "code",
   "execution_count": null,
   "metadata": {},
   "outputs": [],
   "source": [
    "def Augment6(images): \n",
    "    aug=iaa.Sequential(\n",
    "        iaa.ElasticTransformation(alpha=(1, 2.0), sigma=0.25)\n",
    "    )\n",
    "    image_aug = aug.augment_images(images)\n",
    "    return image_aug"
   ]
  },
  {
   "cell_type": "code",
   "execution_count": null,
   "metadata": {},
   "outputs": [],
   "source": [
    "def Augment7(images):\n",
    "    aug=iaa.Sequential(\n",
    "        iaa.PiecewiseAffine(scale=(0.03, 0.05))\n",
    "    )\n",
    "    image_aug = aug.augment_images(images)\n",
    "    return image_aug"
   ]
  },
  {
   "cell_type": "code",
   "execution_count": null,
   "metadata": {
    "scrolled": true
   },
   "outputs": [],
   "source": [
    "#main driver function to render html and take a screenshot\n",
    "def generate_images():\n",
    "    for i in range(con1_start,con1_end+1):\n",
    "        for r in range(matra_start,matra_end+1):\n",
    "            if not os.path.exists(\"./data/\"+str(i)+\"_\"+str(r)):\n",
    "                os.makedirs(\"./data/\"+str(i)+\"_\"+str(r))\n",
    "            images=[]\n",
    "            for j in range(len(font_list)):\n",
    "\n",
    "                f=open(\"generate.html\",\"w\")\n",
    "                select_font=\"* {font-family: %s}\"%(\"'\"+str(j)+\"'\")\n",
    "                text=start_html+font_face+select_font+mid_html+chr(i)+chr(r)+end_html\n",
    "                f.write(text)\n",
    "                f.close()\n",
    "                driver = webdriver.Chrome('./chromedriver')  # Optional argument, if not specified will search path.\n",
    "\n",
    "                driver.get('file:///media/crocoder/New Volume4/Personal/Projects/Manuscript Recognition/generate.html')\n",
    "                driver.save_screenshot(\"./data/\"+str(i)+\"_\"+str(r)+\"/\"+str(j)+\".png\")\n",
    "                img=save(\"./data/\"+str(i)+\"_\"+str(r)+\"/\"+str(j)+\".png\",char_img_size)\n",
    "                images.append(cv2.imread(\"./data/\"+str(i)+\"_\"+str(r)+\"/\"+str(j)+\".png\"))\n",
    "                print(\"./data/\"+str(i)+\"_\"+str(r)+\"/\"+str(j)+\".png\")\n",
    "                driver.close()\n",
    "            print(len(images))\n",
    "            Augment_Main(images,\"./data/\"+str(i)+\"_\"+str(r)+\"/\")"
   ]
  },
  {
   "cell_type": "code",
   "execution_count": null,
   "metadata": {},
   "outputs": [],
   "source": [
    "#crops the image and saves it\n",
    "def save(path,char_img_size):\n",
    "    a=cv2.imread(path,0)\n",
    "    a[a>127]=255\n",
    "    a[a<=127]=0\n",
    "    w=np.argmin(a,axis=1)\n",
    "    w[w==0]=5000\n",
    "    left=min(w)\n",
    "    #print(left)\n",
    "    h=np.argmin(a,axis=0)\n",
    "    h[h==0]=5000\n",
    "    top=min(h)\n",
    "    a=np.rot90(a)\n",
    "    #print(top)\n",
    "    h=np.argmin(a,axis=0)\n",
    "    h[h==0]=5000\n",
    "    right=min(h)\n",
    "    right=a.shape[0]-right\n",
    "    #print(right)\n",
    "    a=np.rot90(a)\n",
    "    w=np.argmin(a,axis=0)\n",
    "    w[w==0]=5000\n",
    "    bottom=min(w)\n",
    "    bottom=a.shape[0]-bottom\n",
    "    #print(bottom)\n",
    "\n",
    "    a=cv2.imread(path,0)\n",
    "    a=np.pad(a[top-1:bottom+1,left-1:right+1],(1,1),'constant',constant_values=(255))\n",
    "    x=int((char_img_size-a.shape[0])/2)\n",
    "    y=int((char_img_size-a.shape[1])/2)\n",
    "    img=np.full((char_img_size,char_img_size),255)\n",
    "    img[x:x+a.shape[0],y:y+a.shape[1]]=a   \n",
    "    print(img.shape)\n",
    "    cv2.imwrite(path,img)\n",
    "    return img"
   ]
  },
  {
   "cell_type": "code",
   "execution_count": null,
   "metadata": {},
   "outputs": [],
   "source": [
    "generate_images()"
   ]
  }
 ],
 "metadata": {
  "kernelspec": {
   "display_name": "Python 3",
   "language": "python",
   "name": "python3"
  },
  "language_info": {
   "codemirror_mode": {
    "name": "ipython",
    "version": 3
   },
   "file_extension": ".py",
   "mimetype": "text/x-python",
   "name": "python",
   "nbconvert_exporter": "python",
   "pygments_lexer": "ipython3",
   "version": "3.6.4"
  }
 },
 "nbformat": 4,
 "nbformat_minor": 2
}
